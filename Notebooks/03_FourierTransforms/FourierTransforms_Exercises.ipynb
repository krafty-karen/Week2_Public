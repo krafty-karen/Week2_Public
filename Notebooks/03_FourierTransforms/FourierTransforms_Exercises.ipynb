{
  "nbformat": 4,
  "nbformat_minor": 0,
  "metadata": {
    "colab": {
      "name": "FourierTransforms_Exercises.ipynb",
      "provenance": [],
      "collapsed_sections": []
    },
    "kernelspec": {
      "display_name": "Python 3",
      "language": "python",
      "name": "python3"
    },
    "language_info": {
      "codemirror_mode": {
        "name": "ipython",
        "version": 3
      },
      "file_extension": ".py",
      "mimetype": "text/x-python",
      "name": "python",
      "nbconvert_exporter": "python",
      "pygments_lexer": "ipython3",
      "version": "3.7.3"
    }
  },
  "cells": [
    {
      "cell_type": "markdown",
      "metadata": {
        "id": "Z1R737aJvYOI",
        "colab_type": "text"
      },
      "source": [
        "# Fourier Transforms Exercises"
      ]
    },
    {
      "cell_type": "code",
      "metadata": {
        "colab_type": "code",
        "id": "fkjBAhW0CSXP",
        "colab": {}
      },
      "source": [
        "import numpy as np\n",
        "import matplotlib.pyplot as plt\n",
        "import scipy\n",
        "import matplotlib\n",
        "\n",
        "%matplotlib inline\n",
        "matplotlib.rcParams.update({'font.size': 16,'figure.figsize':(10,6)})"
      ],
      "execution_count": null,
      "outputs": []
    },
    {
      "cell_type": "markdown",
      "metadata": {
        "id": "bCsYSBYSvYOT",
        "colab_type": "text"
      },
      "source": [
        "## Discrete Fourier Transform (DFT)\n",
        "\n",
        "$$S[m] = \\sum_{n=0}^{N-1} s[n] e^{-i 2 \\pi m \\left({\\frac{n}{N}}\\right) }$$\n",
        "\n",
        "Write a function that computes the DFT of a 1D arraay."
      ]
    },
    {
      "cell_type": "code",
      "metadata": {
        "colab_type": "code",
        "id": "I784_lF3bPGy",
        "colab": {}
      },
      "source": [
        "def DFT_slow(s):\n",
        "    \"\"\"\n",
        "    Compute the discrete Fourier Transform of the 1D array x\n",
        "    :param s: (array)\n",
        "    \"\"\"\n",
        "    \n",
        "    ## YOUR CODE HERE\n"
      ],
      "execution_count": null,
      "outputs": []
    },
    {
      "cell_type": "markdown",
      "metadata": {
        "id": "GMYK3PjMvYOW",
        "colab_type": "text"
      },
      "source": [
        "If you have extra time try writing a function that also computes the DFT but by using the dot product (recall the dot product sums over the element-wise products)."
      ]
    },
    {
      "cell_type": "code",
      "metadata": {
        "colab_type": "code",
        "id": "o9on_7pHbhfH",
        "colab": {}
      },
      "source": [
        "def DFT(s):\n",
        "    \"\"\"\n",
        "    Compute the discrete Fourier Transform of the 1D array x\n",
        "    :param s: (array)\n",
        "    \"\"\"\n",
        "\n",
        "    ## YOUR CODE HERE\n",
        "    "
      ],
      "execution_count": null,
      "outputs": []
    },
    {
      "cell_type": "markdown",
      "metadata": {
        "id": "m0hpRlSiziEw",
        "colab_type": "text"
      },
      "source": [
        "Below is an example signal constructed to test out both your DFT functions"
      ]
    },
    {
      "cell_type": "code",
      "metadata": {
        "colab_type": "code",
        "id": "zGgD6g8JcmEN",
        "colab": {}
      },
      "source": [
        "num_sec = 5         # sampling period (in seconds)\n",
        "num_pts = 500       # samples per second\n",
        "\n",
        "\n",
        "# make a complex signal with two sinusoids to test both of your DFT calculation methods\n",
        "t = np.linspace(0, num_sec, num_pts*num_sec)\n",
        "s = np.sin(40 * 2 * np.pi * t) + 0.5 * np.sin(90 * 2 * np.pi * t)\n",
        "\n",
        "plt.figure(figsize=(15,6))\n",
        "plt.ylabel(\"Amplitude\")\n",
        "plt.xlabel(\"Time [s]\")\n",
        "plt.plot(t, s)\n",
        "plt.show()"
      ],
      "execution_count": null,
      "outputs": []
    },
    {
      "cell_type": "code",
      "metadata": {
        "id": "r2FiqwO5vYOb",
        "colab_type": "code",
        "colab": {}
      },
      "source": [
        "Fs = 1/(t[1] - t[0])     # sample rate\n",
        "N = s.size               # number of samples (length of signal)\n",
        "\n",
        "k = np.arange(N)         # frequncy bins\n",
        "T = N/Fs                 # frequency interval of a single bin\n",
        "frq = k/T                # two sides frequency range\n",
        "frq = frq[range(N//2)]   # one side frequency range (Fourier transform outputs symmetric frequencies)"
      ],
      "execution_count": null,
      "outputs": []
    },
    {
      "cell_type": "markdown",
      "metadata": {
        "id": "Xx9Iit1VvYOd",
        "colab_type": "text"
      },
      "source": [
        "### Perform Fourier Transform on the signal defined above using both of your DFT functions and numpy's fft\n",
        "\n",
        "Perform a DFT on the example signal created above. As a bonus, time how long it takes for each method to run and compare them! (You can use the time module, i.e. \"import time\".)"
      ]
    },
    {
      "cell_type": "code",
      "metadata": {
        "colab_type": "code",
        "id": "Uf6K67rZIfQl",
        "colab": {}
      },
      "source": [
        "# Perform Fourier Transform using your function DFT() and numpy's fft\n",
        "\n",
        "## YOUR CODE HERE\n"
      ],
      "execution_count": null,
      "outputs": []
    },
    {
      "cell_type": "markdown",
      "metadata": {
        "colab_type": "text",
        "id": "NrePRrJEIRAU"
      },
      "source": [
        "## Plot the Frequency Spectrum\n",
        "\n",
        "Plot the frequency spectrum from using your DFT function(s) and numpy's fft. They should all come out the same.\n",
        "\n",
        "Note that when we plot a DFT we take the absolute value of the value returned from the fft. (The raw value returned by the fft has both real and imaginary components. When we take its absolute value we are calculating the magnitude of the sine waves that make up the original signal and ignoring their phases.) Also, we often only plot the first half of the fft. This is because when we take the fft of a completely real signal, the second half of the fft is just the complex conjugate of the first half, and thus redundant."
      ]
    },
    {
      "cell_type": "code",
      "metadata": {
        "colab_type": "code",
        "id": "oVAAlB-uE7ML",
        "colab": {}
      },
      "source": [
        "def plot_FT(ft, T, N, flipxy=False):\n",
        "    \"\"\"\n",
        "    plot the Fourier Transform frequency spectrum\n",
        "    :param ft: output of Fourier Transform (i.e., np.fft.fft())\n",
        "    :param T: sample resolution (in seconds)\n",
        "    :param N: total number of samples\n",
        "\n",
        "    Note: only plot the first 1/2 of what the FT returns \n",
        "    (the other half is just the complex congugate)\n",
        "\n",
        "    \"\"\"\n",
        "\n",
        "    f = \n",
        "\n",
        "\n",
        "\n",
        "    if not flipxy:\n",
        "        ## YOUR CODE HERE\n",
        "\n",
        "    else:\n",
        "    # sometimes we may want to plot on flipped x/y axis\n",
        "        ## yOUR CODE HERE\n",
        "  "
      ],
      "execution_count": null,
      "outputs": []
    },
    {
      "cell_type": "code",
      "metadata": {
        "colab_type": "code",
        "id": "9wZ3DgaGDcmu",
        "colab": {}
      },
      "source": [
        "# plot using the above function you just defined and np.fft.fft to ensure they provide the same answer\n",
        "\n",
        "T = t[1] - t[0]  # sample rate\n",
        "N = len(s)\n",
        "\n",
        "## YOUR CODE HERE"
      ],
      "execution_count": null,
      "outputs": []
    },
    {
      "cell_type": "markdown",
      "metadata": {
        "colab_type": "text",
        "id": "H505z4qZVwWD"
      },
      "source": [
        "## Inverse Fourier Transform (IFT)"
      ]
    },
    {
      "cell_type": "markdown",
      "metadata": {
        "colab_type": "text",
        "id": "HiUGEFluVWP_"
      },
      "source": [
        "Let's try a more complicated signal.\n",
        "\n",
        "Try taking the FFT of the ecg signal (you can use np.fft.fft) and plot it next to the time-domain signal. Can you identify any peaks in the fft corresponding to repeating structures in the ecg? (You might need to zoom into the x-axis.)\n",
        "\n",
        "Also, use the ifft function (np.fft.ifft) to reproduce the time-domain signal again from the fft and verify it matches the original."
      ]
    },
    {
      "cell_type": "code",
      "metadata": {
        "colab_type": "code",
        "id": "eNDPlKbVUiSx",
        "colab": {}
      },
      "source": [
        "y_ecg = np.loadtxt('https://raw.githubusercontent.com/BeaverWorksMedlytics2020/Data_Public/master/NotebookExampleData/Week2/ecg.txt',skiprows=4)\n",
        "\n",
        "\n",
        "\n",
        "## FFT and IFFT\n",
        "## YOUR CODE HERE\n",
        "\n",
        "# PLOT\n",
        "## YOUR CODE HERE\n"
      ],
      "execution_count": null,
      "outputs": []
    },
    {
      "cell_type": "code",
      "metadata": {
        "colab_type": "code",
        "id": "LVSYqMvekvU6",
        "colab": {}
      },
      "source": [
        "T = t[1]-t[0]\n",
        "N = t.size               \n",
        "\n",
        "## PLOT FREQUENCY SPECTRUM"
      ],
      "execution_count": null,
      "outputs": []
    },
    {
      "cell_type": "markdown",
      "metadata": {
        "colab_type": "text",
        "id": "y535EEPoXMq7"
      },
      "source": [
        "Okay, well that looks pretty good, but how well were we able to reconstruct the signal really? Check the correlation coefficient."
      ]
    },
    {
      "cell_type": "code",
      "metadata": {
        "colab_type": "code",
        "id": "qYtzNbLJUiP4",
        "colab": {}
      },
      "source": [
        "np.corrcoef(abs(y_ecg), abs(y_ecg_recon))"
      ],
      "execution_count": null,
      "outputs": []
    },
    {
      "cell_type": "markdown",
      "metadata": {
        "colab_type": "text",
        "id": "nuLi5WFaXW6M"
      },
      "source": [
        "## Okay, but that was a relatively periodic signal...\n",
        "Let's try with a signal that doesn't look periodic at all!\n",
        "\n",
        "(i.e. compare the raw signal to its fft, and reconstruct the raw signal by performing an inverse Fourier transform)"
      ]
    },
    {
      "cell_type": "code",
      "metadata": {
        "colab_type": "code",
        "id": "zUFajolkUiMy",
        "colab": {}
      },
      "source": [
        "import scipy.io.wavfile\n",
        "from IPython.display import Audio\n",
        "\n",
        "# original signal\n",
        "(sample_rate, y_newt) = scipy.io.wavfile.read(\"./sounds/newt.wav\")\n",
        "t = np.arange(0, len(y_newt)/sample_rate, 1/sample_rate)\n",
        "\n",
        "print('Sample rate: {} Hz'.format(sample_rate))"
      ],
      "execution_count": null,
      "outputs": []
    },
    {
      "cell_type": "code",
      "metadata": {
        "colab_type": "code",
        "id": "ettTW0KacrfM",
        "colab": {}
      },
      "source": [
        "## PLOT FREQUENCY SPECTRUM\n",
        "\n",
        "T = t[1]-t[0]\n",
        "N = t.size               \n",
        "\n",
        "## YOUR CODE HERE"
      ],
      "execution_count": null,
      "outputs": []
    },
    {
      "cell_type": "code",
      "metadata": {
        "colab_type": "code",
        "id": "1QQkur43UiKC",
        "colab": {}
      },
      "source": [
        "# FFT, IFFT\n",
        "\n",
        "## YOUR CODE HERE\n",
        "\n",
        "\n",
        "# PLOT\n",
        "\n",
        "## YOUR CODE HERE"
      ],
      "execution_count": null,
      "outputs": []
    },
    {
      "cell_type": "code",
      "metadata": {
        "colab_type": "code",
        "id": "PUiCkD_kZH7u",
        "colab": {}
      },
      "source": [
        "np.corrcoef(abs(y_newt), abs(y_newt_recon))"
      ],
      "execution_count": null,
      "outputs": []
    },
    {
      "cell_type": "markdown",
      "metadata": {
        "id": "PPDfuTqn6cGI",
        "colab_type": "text"
      },
      "source": [
        "## Compare the original signal with the reconstructed signal by listening"
      ]
    },
    {
      "cell_type": "code",
      "metadata": {
        "colab_type": "code",
        "id": "wkrVHd3AUiHQ",
        "colab": {}
      },
      "source": [
        "# Original signal\n",
        "Audio(data=y_newt, rate=sample_rate)"
      ],
      "execution_count": null,
      "outputs": []
    },
    {
      "cell_type": "code",
      "metadata": {
        "colab_type": "code",
        "id": "-uIoe4T5UiED",
        "colab": {}
      },
      "source": [
        "# Digitized signal\n",
        "Audio(data=abs(y_newt_recon), rate=sample_rate)"
      ],
      "execution_count": null,
      "outputs": []
    }
  ]
}